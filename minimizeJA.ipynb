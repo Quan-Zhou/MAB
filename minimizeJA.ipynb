{
 "cells": [
  {
   "cell_type": "code",
   "execution_count": 4,
   "metadata": {},
   "outputs": [],
   "source": [
    "import math\n",
    "import numpy as np\n",
    "import matplotlib.pyplot as plt\n",
    "from itertools import combinations\n",
    "import random"
   ]
  },
  {
   "cell_type": "code",
   "execution_count": 103,
   "metadata": {},
   "outputs": [],
   "source": [
    "M=10\n",
    "K=5\n",
    "\n",
    "def trial():\n",
    "    U=[random.randint(1, 10) for p in range(M)]\n",
    "    E=[random.randint(1, U[p]) for p in range(M)]\n",
    "    rankU=np.array([sorted(U,reverse = True).index(x)+1 for x in U])\n",
    "    rankE=np.array([sorted(E,reverse = True).index(x)+1 for x in E])\n",
    "    A=bound_enumeration(U,E)\n",
    "    inter=[]\n",
    "    union=[]\n",
    "    for i in range(M):\n",
    "        if (rankE[i]<=K)|(rankU[i]<=K):\n",
    "            union+=[i]\n",
    "            if (rankE[i]<=K)&(rankU[i]<=K):\n",
    "                inter+=[i]\n",
    "            # print(rankE[i])\n",
    "            # print(rankU[i])\n",
    "    if any([set(Ai).issubset(union) for Ai in A])==False:\n",
    "        print(inter)\n",
    "        print(A)\n",
    "        # print(inter,J(U,E,inter))\n",
    "        # print(A,J(U,E,A))\n",
    "#set(inter).issubset(A)"
   ]
  },
  {
   "cell_type": "code",
   "execution_count": 79,
   "metadata": {},
   "outputs": [
    {
     "data": {
      "text/plain": [
       "[[1, 2, 7, 8, 9], [1, 6, 7, 8, 9]]"
      ]
     },
     "execution_count": 79,
     "metadata": {},
     "output_type": "execute_result"
    }
   ],
   "source": [
    "U=[random.randint(1, 100) for p in range(M)]\n",
    "E=[random.randint(1, U[p]) for p in range(M)]\n",
    "rankU=np.array([sorted(U,reverse = True).index(x)+1 for x in U])\n",
    "rankE=np.array([sorted(E,reverse = True).index(x)+1 for x in E])\n",
    "bound_enumeration(U,E)"
   ]
  },
  {
   "cell_type": "code",
   "execution_count": 104,
   "metadata": {},
   "outputs": [],
   "source": [
    "for i in range(1000):\n",
    "    trial()"
   ]
  },
  {
   "cell_type": "code",
   "execution_count": 7,
   "metadata": {},
   "outputs": [
    {
     "data": {
      "text/plain": [
       "[89, 95, 18, 53, 86, 80]"
      ]
     },
     "execution_count": 7,
     "metadata": {},
     "output_type": "execute_result"
    }
   ],
   "source": [
    "U"
   ]
  },
  {
   "cell_type": "code",
   "execution_count": 8,
   "metadata": {},
   "outputs": [
    {
     "data": {
      "text/plain": [
       "[21, 2, 11, 10, 56, 70]"
      ]
     },
     "execution_count": 8,
     "metadata": {},
     "output_type": "execute_result"
    }
   ],
   "source": [
    "E"
   ]
  },
  {
   "cell_type": "code",
   "execution_count": 9,
   "metadata": {},
   "outputs": [
    {
     "name": "stdout",
     "output_type": "stream",
     "text": [
      "[2 3 4]\n",
      "[2 1 6 5 3 4]\n"
     ]
    }
   ],
   "source": [
    "print(rankU[A])\n",
    "print(rankU)"
   ]
  },
  {
   "cell_type": "code",
   "execution_count": 10,
   "metadata": {},
   "outputs": [
    {
     "name": "stdout",
     "output_type": "stream",
     "text": [
      "[3 2 1]\n",
      "[3 6 4 5 2 1]\n"
     ]
    }
   ],
   "source": [
    "print(rankE[A])\n",
    "print(rankE)"
   ]
  },
  {
   "cell_type": "code",
   "execution_count": 71,
   "metadata": {},
   "outputs": [],
   "source": [
    "def generate_combinations(numbers, r):\n",
    "    return list(combinations(numbers, r))\n",
    "\n",
    "def J(Ulist,Elist,A):\n",
    "    U=np.array(Ulist)\n",
    "    E=np.array(Elist)\n",
    "    Ac=list(set([*range(M)])-set(A))\n",
    "    return np.max(U[Ac])-np.min(E[A])\n",
    "\n",
    "def bound_enumeration(Ulist,Elist):\n",
    "        U=np.array(Ulist)\n",
    "        E=np.array(Elist)\n",
    "        # Generate combinations\n",
    "        numbers = [*range(M)]\n",
    "        comb = generate_combinations(numbers, K)\n",
    "        minexp=1000\n",
    "        optA=[]\n",
    "        for c in comb:\n",
    "            A=list(c)\n",
    "            # Ac=list(set(numbers)-set(c))\n",
    "            # exp=np.max(U[Ac])-np.min(E[A])\n",
    "            exp=J(U,E,A)\n",
    "            if minexp > exp:\n",
    "                minexp = exp\n",
    "                optA = [A]\n",
    "            elif minexp == exp:\n",
    "                 optA +=[A] \n",
    "        return optA #, minexp"
   ]
  }
 ],
 "metadata": {
  "kernelspec": {
   "display_name": "base",
   "language": "python",
   "name": "python3"
  },
  "language_info": {
   "codemirror_mode": {
    "name": "ipython",
    "version": 3
   },
   "file_extension": ".py",
   "mimetype": "text/x-python",
   "name": "python",
   "nbconvert_exporter": "python",
   "pygments_lexer": "ipython3",
   "version": "3.9.13"
  }
 },
 "nbformat": 4,
 "nbformat_minor": 2
}
