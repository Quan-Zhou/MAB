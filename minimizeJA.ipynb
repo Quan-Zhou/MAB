{
 "cells": [
  {
   "cell_type": "code",
   "execution_count": 7,
   "metadata": {},
   "outputs": [],
   "source": [
    "import math\n",
    "import numpy as np\n",
    "import matplotlib.pyplot as plt\n",
    "from itertools import combinations\n",
    "import random"
   ]
  },
  {
   "cell_type": "code",
   "execution_count": 8,
   "metadata": {},
   "outputs": [],
   "source": [
    "def generate_standard_normal_vector():\n",
    "    \"\"\"Generates a standard normal vector x in R^2.\"\"\"\n",
    "    return np.random.randn(2)\n",
    "\n",
    "def compute_inner_products(x, A):\n",
    "    \"\"\"Computes the inner products between x and each row of A.\n",
    "    \n",
    "    Args:\n",
    "        x (np.ndarray): A 2D vector of shape (2,).\n",
    "        A (np.ndarray): A matrix of shape (n,2), where each row is a vector in R^2.\n",
    "    \n",
    "    Returns:\n",
    "        np.ndarray: Inner products of shape (n,).\n",
    "    \"\"\"\n",
    "    return A @ x  # Equivalent to np.dot(A, x)\n",
    "\n",
    "def plot_A(A):\n",
    "    \"\"\"Plots the set of vectors in A.\n",
    "    \n",
    "    Args:\n",
    "        A (np.ndarray): A matrix of shape (n,2), where each row is a vector in R^2.\n",
    "    \"\"\"\n",
    "    plt.scatter(A[:, 0], A[:, 1], color='blue', label='Vectors in A')\n",
    "    plt.xlabel('X')\n",
    "    plt.ylabel('Y')\n",
    "    plt.title('Plot of Vectors in A')\n",
    "    # plt.legend()\n",
    "    plt.grid()\n",
    "    plt.show()"
   ]
  },
  {
   "cell_type": "code",
   "execution_count": 9,
   "metadata": {},
   "outputs": [],
   "source": [
    "A = np.array([[0, 1], [1, 0], [-1,1]])  # Example set of vectors in R^2\n",
    "repeat =10000"
   ]
  },
  {
   "cell_type": "code",
   "execution_count": 12,
   "metadata": {},
   "outputs": [
    {
     "name": "stdout",
     "output_type": "stream",
     "text": [
      "[1284, 4465, 4251]\n"
     ]
    }
   ],
   "source": [
    "counts=[0]*len(A)\n",
    "for ignore in range(repeat):\n",
    "    x = generate_standard_normal_vector()\n",
    "    inner_products = compute_inner_products(x, A)\n",
    "    counts[np.argmax(inner_products)]+=1\n",
    "\n",
    "print(counts)"
   ]
  },
  {
   "cell_type": "code",
   "execution_count": 11,
   "metadata": {},
   "outputs": [
    {
     "data": {
      "image/png": "[encoded data removed]",
      "text/plain": [
       "<Figure size 640x480 with 1 Axes>"
      ]
     },
     "metadata": {},
     "output_type": "display_data"
    }
   ],
   "source": [
    "plot_A(A)"
   ]
  },
  {
   "cell_type": "code",
   "execution_count": 103,
   "metadata": {},
   "outputs": [],
   "source": [
    "M=10\n",
    "K=5\n",
    "\n",
    "def trial():\n",
    "    U=[random.randint(1, 10) for p in range(M)]\n",
    "    E=[random.randint(1, U[p]) for p in range(M)]\n",
    "    rankU=np.array([sorted(U,reverse = True).index(x)+1 for x in U])\n",
    "    rankE=np.array([sorted(E,reverse = True).index(x)+1 for x in E])\n",
    "    A=bound_enumeration(U,E)\n",
    "    inter=[]\n",
    "    union=[]\n",
    "    for i in range(M):\n",
    "        if (rankE[i]<=K)|(rankU[i]<=K):\n",
    "            union+=[i]\n",
    "            if (rankE[i]<=K)&(rankU[i]<=K):\n",
    "                inter+=[i]\n",
    "            # print(rankE[i])\n",
    "            # print(rankU[i])\n",
    "    if any([set(Ai).issubset(union) for Ai in A])==False:\n",
    "        print(inter)\n",
    "        print(A)\n",
    "        # print(inter,J(U,E,inter))\n",
    "        # print(A,J(U,E,A))\n",
    "#set(inter).issubset(A)"
   ]
  },
  {
   "cell_type": "code",
   "execution_count": 79,
   "metadata": {},
   "outputs": [
    {
     "data": {
      "text/plain": [
       "[[1, 2, 7, 8, 9], [1, 6, 7, 8, 9]]"
      ]
     },
     "execution_count": 79,
     "metadata": {},
     "output_type": "execute_result"
    }
   ],
   "source": [
    "U=[random.randint(1, 100) for p in range(M)]\n",
    "E=[random.randint(1, U[p]) for p in range(M)]\n",
    "rankU=np.array([sorted(U,reverse = True).index(x)+1 for x in U])\n",
    "rankE=np.array([sorted(E,reverse = True).index(x)+1 for x in E])\n",
    "bound_enumeration(U,E)"
   ]
  },
  {
   "cell_type": "code",
   "execution_count": 104,
   "metadata": {},
   "outputs": [],
   "source": [
    "for i in range(1000):\n",
    "    trial()"
   ]
  },
  {
   "cell_type": "code",
   "execution_count": 7,
   "metadata": {},
   "outputs": [
    {
     "data": {
      "text/plain": [
       "[89, 95, 18, 53, 86, 80]"
      ]
     },
     "execution_count": 7,
     "metadata": {},
     "output_type": "execute_result"
    }
   ],
   "source": [
    "U"
   ]
  },
  {
   "cell_type": "code",
   "execution_count": 8,
   "metadata": {},
   "outputs": [
    {
     "data": {
      "text/plain": [
       "[21, 2, 11, 10, 56, 70]"
      ]
     },
     "execution_count": 8,
     "metadata": {},
     "output_type": "execute_result"
    }
   ],
   "source": [
    "E"
   ]
  },
  {
   "cell_type": "code",
   "execution_count": 9,
   "metadata": {},
   "outputs": [
    {
     "name": "stdout",
     "output_type": "stream",
     "text": [
      "[2 3 4]\n",
      "[2 1 6 5 3 4]\n"
     ]
    }
   ],
   "source": [
    "print(rankU[A])\n",
    "print(rankU)"
   ]
  },
  {
   "cell_type": "code",
   "execution_count": 10,
   "metadata": {},
   "outputs": [
    {
     "name": "stdout",
     "output_type": "stream",
     "text": [
      "[3 2 1]\n",
      "[3 6 4 5 2 1]\n"
     ]
    }
   ],
   "source": [
    "print(rankE[A])\n",
    "print(rankE)"
   ]
  },
  {
   "cell_type": "code",
   "execution_count": 71,
   "metadata": {},
   "outputs": [],
   "source": [
    "def generate_combinations(numbers, r):\n",
    "    return list(combinations(numbers, r))\n",
    "\n",
    "def J(Ulist,Elist,A):\n",
    "    U=np.array(Ulist)\n",
    "    E=np.array(Elist)\n",
    "    Ac=list(set([*range(M)])-set(A))\n",
    "    return np.max(U[Ac])-np.min(E[A])\n",
    "\n",
    "def bound_enumeration(Ulist,Elist):\n",
    "        U=np.array(Ulist)\n",
    "        E=np.array(Elist)\n",
    "        # Generate combinations\n",
    "        numbers = [*range(M)]\n",
    "        comb = generate_combinations(numbers, K)\n",
    "        minexp=1000\n",
    "        optA=[]\n",
    "        for c in comb:\n",
    "            A=list(c)\n",
    "            # Ac=list(set(numbers)-set(c))\n",
    "            # exp=np.max(U[Ac])-np.min(E[A])\n",
    "            exp=J(U,E,A)\n",
    "            if minexp > exp:\n",
    "                minexp = exp\n",
    "                optA = [A]\n",
    "            elif minexp == exp:\n",
    "                 optA +=[A] \n",
    "        return optA #, minexp"
   ]
  }
 ],
 "metadata": {
  "kernelspec": {
   "display_name": "base",
   "language": "python",
   "name": "python3"
  },
  "language_info": {
   "codemirror_mode": {
    "name": "ipython",
    "version": 3
   },
   "file_extension": ".py",
   "mimetype": "text/x-python",
   "name": "python",
   "nbconvert_exporter": "python",
   "pygments_lexer": "ipython3",
   "version": "3.9.13"
  }
 },
 "nbformat": 4,
 "nbformat_minor": 2
}
