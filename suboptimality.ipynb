{
 "cells": [
  {
   "cell_type": "code",
   "execution_count": 963,
   "metadata": {},
   "outputs": [],
   "source": [
    "import numpy as np\n",
    "import matplotlib.pyplot as plt\n",
    "from itertools import combinations"
   ]
  },
  {
   "cell_type": "code",
   "execution_count": 964,
   "metadata": {},
   "outputs": [],
   "source": [
    "def generate_gaussian(mean, cov, num_samples):\n",
    "    \"\"\"\n",
    "    Generate multi-dimensional Gaussian random variables.\n",
    "\n",
    "    Parameters:\n",
    "        mean (list or np.array): Mean vector of the Gaussian distribution.\n",
    "        cov (list or np.array): Covariance matrix of the Gaussian distribution.\n",
    "        num_samples (int): Number of samples to generate.\n",
    "\n",
    "    Returns:\n",
    "        np.array: Generated samples of shape (num_samples, dimension).\n",
    "    \"\"\"\n",
    "    mean = np.array(mean)\n",
    "    cov = np.array(cov)\n",
    "\n",
    "    if mean.ndim != 1 or cov.ndim != 2 or cov.shape[0] != cov.shape[1] or len(mean) != cov.shape[0]:\n",
    "        raise ValueError(\"Mean vector and covariance matrix dimensions must align.\")\n",
    "\n",
    "    samples = np.random.multivariate_normal(mean, cov, num_samples)\n",
    "    return samples\n",
    "\n",
    "def generate_random_covariance(dim):\n",
    "    \"\"\"\n",
    "    Generate a random positive semi-definite covariance matrix of given dimension.\n",
    "\n",
    "    Parameters:\n",
    "        dim (int): Dimension of the covariance matrix.\n",
    "\n",
    "    Returns:\n",
    "        np.array: A dim x dim covariance matrix.\n",
    "    \"\"\"\n",
    "    A = np.random.rand(dim, dim)\n",
    "    cov = np.dot(A, A.T)  # Create a symmetric positive semi-definite matrix\n",
    "    return cov\n",
    "\n",
    "def generate_combinations(numbers, r):\n",
    "    \"\"\"\n",
    "    Generate all combinations of a given size from a list of numbers.\n",
    "\n",
    "    Parameters:\n",
    "        numbers (list): List of numbers to generate combinations from.\n",
    "        r (int): Size of each combination.\n",
    "\n",
    "    Returns:\n",
    "        list: List of combinations, each as a tuple.\n",
    "    \"\"\"\n",
    "    return list(combinations(numbers, r))"
   ]
  },
  {
   "cell_type": "code",
   "execution_count": 661,
   "metadata": {},
   "outputs": [
    {
     "data": {
      "text/plain": [
       "array([1.13826501, 2.93459981, 0.4223494 , 0.91175598, 3.092995  ,\n",
       "       1.10864396])"
      ]
     },
     "execution_count": 661,
     "metadata": {},
     "output_type": "execute_result"
    }
   ],
   "source": [
    "cov=generate_random_covariance(M)\n",
    "cov=np.diag(cov)\n",
    "np.diag(np.diag(x))"
   ]
  },
  {
   "cell_type": "code",
   "execution_count": 966,
   "metadata": {},
   "outputs": [],
   "source": [
    "class suboptimality:\n",
    "    def __init__(self,M,K):\n",
    "        self.M = M\n",
    "        self.K = K\n",
    "    # def generate_samples(self):\n",
    "        # mean = [0]*self.M \n",
    "        mean = np.random.rand(M)\n",
    "        cov=generate_random_covariance(self.M)\n",
    "        # cov=np.diag(np.diag(cov))\n",
    "        # cov=np.eye(M)\n",
    "        num_samples = 1000\n",
    "        # Generate samples\n",
    "        self.samples = generate_gaussian(mean, cov, num_samples) #np.cov(samples.T)\n",
    "\n",
    "    def iterative_elimination(self):\n",
    "        A=[*range(self.M)]\n",
    "        while len(A)>self.K:\n",
    "            A,minexp=self.Aminus_enumeration(A)\n",
    "        return A, minexp\n",
    "    \n",
    "    def iterative_addition(self):\n",
    "        A=[] #[*range(self.M)]\n",
    "        while len(A)<self.K:\n",
    "            A,minexp=self.Aplus_enumeration(A)\n",
    "        return A, minexp\n",
    "\n",
    "    def Aminus_enumeration(self,A):\n",
    "        comb=generate_combinations(A, len(A)-1)\n",
    "        minexp=100\n",
    "        optAminus=[]\n",
    "        for c in comb:\n",
    "            Aminus=list(c)\n",
    "            exp=np.average(np.max(self.samples,1)-np.max(self.samples[:,Aminus],1))\n",
    "            if minexp > exp:\n",
    "                minexp = exp\n",
    "                optAminus = Aminus   \n",
    "        return optAminus, minexp\n",
    "    \n",
    "    def Aplus_enumeration(self,A):\n",
    "        notA=[i for i in range(self.M) if i not in A]\n",
    "        comb=[A+[i] for i in notA] #generate_combinations(notA, len(A)-1)\n",
    "        minexp=100\n",
    "        optAminus=[]\n",
    "        for c in comb:\n",
    "            Aminus=list(c)\n",
    "            exp=np.average(np.max(self.samples,1)-np.max(self.samples[:,Aminus],1))\n",
    "            if minexp > exp:\n",
    "                minexp = exp\n",
    "                optAminus = Aminus   \n",
    "        return optAminus, minexp\n",
    "\n",
    "    def enumeration(self):\n",
    "        # Generate combinations\n",
    "        numbers = [*range(self.M)]\n",
    "        comb = generate_combinations(numbers, self.K)\n",
    "        minexp=100\n",
    "        optA=[]\n",
    "        for c in comb:\n",
    "            A=list(c)\n",
    "            exp=np.average(np.max(self.samples,1)-np.max(self.samples[:,A],1))\n",
    "            if minexp > exp:\n",
    "                minexp = exp\n",
    "                optA = A\n",
    "        return optA, minexp"
   ]
  },
  {
   "cell_type": "code",
   "execution_count": 967,
   "metadata": {},
   "outputs": [],
   "source": [
    "M=20\n",
    "K=5\n",
    "exp_eliminate=[]\n",
    "exp_add=[]\n",
    "exp_enumerate=[]\n",
    "diff=0\n",
    "for ignore in range(50):\n",
    "    trial=suboptimality(M,K)\n",
    "    result0=trial.iterative_elimination()\n",
    "    # result1=trial.iterative_addition()\n",
    "    result2=trial.enumeration()\n",
    "    # if result0[0] != result1[0]:\n",
    "    #     break\n",
    "    #     diff+=1\n",
    "    exp_eliminate += [result0[1]]\n",
    "    # exp_add += [result1[1]]\n",
    "    exp_enumerate += [result2[1]]"
   ]
  },
  {
   "cell_type": "code",
   "execution_count": 868,
   "metadata": {},
   "outputs": [
    {
     "data": {
      "text/plain": [
       "0.9981892561659477"
      ]
     },
     "execution_count": 868,
     "metadata": {},
     "output_type": "execute_result"
    }
   ],
   "source": [
    "A=[0,2,3,4]\n",
    "samples=trial.samples\n",
    "np.average(np.max(samples,1)-np.max(samples[:,A],1))"
   ]
  },
  {
   "cell_type": "code",
   "execution_count": 899,
   "metadata": {},
   "outputs": [
    {
     "data": {
      "text/plain": [
       "([4, 10, 16], 1.0460216467706456)"
      ]
     },
     "execution_count": 899,
     "metadata": {},
     "output_type": "execute_result"
    }
   ],
   "source": [
    "# trial=suboptimality(M,K)\n",
    "trial.iterative_elimination()"
   ]
  },
  {
   "cell_type": "code",
   "execution_count": 894,
   "metadata": {},
   "outputs": [
    {
     "data": {
      "text/plain": [
       "([6, 8, 17], 0.9883510864574083)"
      ]
     },
     "execution_count": 894,
     "metadata": {},
     "output_type": "execute_result"
    }
   ],
   "source": [
    "trial.enumeration()"
   ]
  },
  {
   "cell_type": "code",
   "execution_count": 948,
   "metadata": {},
   "outputs": [
    {
     "data": {
      "text/plain": [
       "1.4603854348392944"
      ]
     },
     "execution_count": 948,
     "metadata": {},
     "output_type": "execute_result"
    }
   ],
   "source": [
    "np.mean(exp_eliminate)"
   ]
  },
  {
   "cell_type": "code",
   "execution_count": 949,
   "metadata": {},
   "outputs": [
    {
     "data": {
      "text/plain": [
       "1.4586218149850194"
      ]
     },
     "execution_count": 949,
     "metadata": {},
     "output_type": "execute_result"
    }
   ],
   "source": [
    "np.mean(exp_enumerate)"
   ]
  },
  {
   "cell_type": "code",
   "execution_count": 969,
   "metadata": {},
   "outputs": [
    {
     "data": {
      "text/plain": [
       "0.0035738156278176704"
      ]
     },
     "execution_count": 969,
     "metadata": {},
     "output_type": "execute_result"
    }
   ],
   "source": [
    "(np.mean(exp_eliminate)-np.mean(exp_enumerate))/np.mean(exp_enumerate)"
   ]
  },
  {
   "cell_type": "code",
   "execution_count": 970,
   "metadata": {},
   "outputs": [
    {
     "data": {
      "text/plain": [
       "0.019147688140062902"
      ]
     },
     "execution_count": 970,
     "metadata": {},
     "output_type": "execute_result"
    }
   ],
   "source": [
    "np.max([exp_eliminate[i]-exp_enumerate[i] for i in range(50)])"
   ]
  },
  {
   "cell_type": "code",
   "execution_count": 968,
   "metadata": {},
   "outputs": [
    {
     "data": {
      "text/plain": [
       "Text(0.5, 1.0, 'Expectation of sub-optimality gap | dependent actions | different mean over prior')"
      ]
     },
     "execution_count": 968,
     "metadata": {},
     "output_type": "execute_result"
    },
    {
     "data": {
      "image/png": "[encoded data removed]",
      "text/plain": [
       "<Figure size 640x480 with 1 Axes>"
      ]
     },
     "metadata": {},
     "output_type": "display_data"
    }
   ],
   "source": [
    "t=len(exp_enumerate)\n",
    "plt.scatter([*range(t)],exp_eliminate,color='cyan',label='heuristic')\n",
    "# plt.scatter([*range(t)],exp_add,color='b')\n",
    "plt.scatter([*range(t)],exp_enumerate,color='green',label='enumeration')\n",
    "plt.scatter([*range(t)],[exp_eliminate[i]-exp_enumerate[i] for i in range(t)],label='difference')\n",
    "plt.legend()\n",
    "plt.title('Expectation of sub-optimality gap | dependent actions | different mean over prior')"
   ]
  },
  {
   "cell_type": "code",
   "execution_count": null,
   "metadata": {},
   "outputs": [
    {
     "data": {
      "text/plain": [
       "Text(0.5, 1.0, 'Expectation of sub-optimality gap | dependent actions')"
      ]
     },
     "metadata": {},
     "output_type": "display_data"
    },
    {
     "data": {
      "image/png": "[encoded data removed]",
      "text/plain": [
       "<Figure size 640x480 with 1 Axes>"
      ]
     },
     "metadata": {},
     "output_type": "display_data"
    }
   ],
   "source": [
    "t=len(exp_enumerate)\n",
    "plt.scatter([*range(t)],exp_eliminate,color='cyan',label='heuristic')\n",
    "# plt.scatter([*range(t)],exp_add,color='b')\n",
    "plt.scatter([*range(t)],exp_enumerate,color='green',label='enumeration')\n",
    "plt.scatter([*range(t)],[exp_eliminate[i]-exp_enumerate[i] for i in range(t)],label='difference')\n",
    "plt.legend()\n",
    "plt.title('Expectation of sub-optimality gap | dependent actions')"
   ]
  },
  {
   "cell_type": "code",
   "execution_count": null,
   "metadata": {},
   "outputs": [
    {
     "data": {
      "text/plain": [
       "Text(0.5, 1.0, 'Expectation of sub-optimality gap | independent actions')"
      ]
     },
     "metadata": {},
     "output_type": "display_data"
    },
    {
     "data": {
      "image/png": "[encoded data removed]",
      "text/plain": [
       "<Figure size 640x480 with 1 Axes>"
      ]
     },
     "metadata": {},
     "output_type": "display_data"
    }
   ],
   "source": [
    "t=len(exp_enumerate)\n",
    "plt.scatter([*range(t)],exp_eliminate,color='cyan',label='heuristic')\n",
    "# plt.scatter([*range(t)],exp_add,color='b')\n",
    "plt.scatter([*range(t)],exp_enumerate,color='green',label='enumeration')\n",
    "plt.scatter([*range(t)],[exp_eliminate[i]-exp_enumerate[i] for i in range(t)],label='difference')\n",
    "plt.legend()\n",
    "plt.title('Expectation of sub-optimality gap | independent actions')"
   ]
  },
  {
   "cell_type": "code",
   "execution_count": 839,
   "metadata": {},
   "outputs": [
    {
     "data": {
      "text/plain": [
       "([1, 3, 5, 7, 8], 0.19981672153166596)"
      ]
     },
     "execution_count": 839,
     "metadata": {},
     "output_type": "execute_result"
    }
   ],
   "source": [
    "trial.enumeration()"
   ]
  },
  {
   "cell_type": "code",
   "execution_count": 578,
   "metadata": {},
   "outputs": [],
   "source": [
    "# Mean vector and covariance matrix\n",
    "\n",
    "mean = [0]*M\n",
    "cov=generate_random_covariance(M)\n",
    "# cov=np.eye(M)\n",
    "num_samples = 1000\n",
    "# Generate samples\n",
    "samples = generate_gaussian(mean, cov, num_samples) #np.cov(samples.T)"
   ]
  },
  {
   "cell_type": "code",
   "execution_count": 579,
   "metadata": {},
   "outputs": [
    {
     "name": "stdout",
     "output_type": "stream",
     "text": [
      "[0, 1, 4] 0.10142462284716339\n"
     ]
    }
   ],
   "source": [
    "A=[*range(M)]\n",
    "while len(A)>K:\n",
    "    A,minexp=Aminus_enumeration(samples,A)\n",
    "print(A,minexp)"
   ]
  },
  {
   "cell_type": "code",
   "execution_count": 580,
   "metadata": {},
   "outputs": [
    {
     "data": {
      "text/plain": [
       "([0, 1, 4], 0.10142462284716339)"
      ]
     },
     "execution_count": 580,
     "metadata": {},
     "output_type": "execute_result"
    }
   ],
   "source": [
    "enumeration(samples)"
   ]
  },
  {
   "cell_type": "code",
   "execution_count": 546,
   "metadata": {},
   "outputs": [
    {
     "data": {
      "text/plain": [
       "0.5183915607103443"
      ]
     },
     "execution_count": 546,
     "metadata": {},
     "output_type": "execute_result"
    }
   ],
   "source": [
    "A=[2,0]\n",
    "np.average(np.max(samples,1)-np.max(samples[:,A],1))"
   ]
  },
  {
   "cell_type": "code",
   "execution_count": 451,
   "metadata": {},
   "outputs": [
    {
     "data": {
      "text/plain": [
       "0.2005434133506281"
      ]
     },
     "execution_count": 451,
     "metadata": {},
     "output_type": "execute_result"
    }
   ],
   "source": [
    "A=[1,0]\n",
    "np.average(np.max(samples,1)-np.max(samples[:,A],1))"
   ]
  },
  {
   "cell_type": "code",
   "execution_count": 452,
   "metadata": {},
   "outputs": [
    {
     "data": {
      "text/plain": [
       "0.23886165038309223"
      ]
     },
     "execution_count": 452,
     "metadata": {},
     "output_type": "execute_result"
    }
   ],
   "source": [
    "A=[1,2]\n",
    "np.average(np.max(samples,1)-np.max(samples[:,A],1))"
   ]
  },
  {
   "cell_type": "code",
   "execution_count": 266,
   "metadata": {},
   "outputs": [
    {
     "data": {
      "text/plain": [
       "0.8219816244864687"
      ]
     },
     "execution_count": 266,
     "metadata": {},
     "output_type": "execute_result"
    }
   ],
   "source": [
    "A=[2,3]\n",
    "np.average(np.max(samples,1)-np.max(samples[:,A],1))"
   ]
  },
  {
   "cell_type": "code",
   "execution_count": 292,
   "metadata": {},
   "outputs": [
    {
     "data": {
      "text/plain": [
       "array([[1, 0, 0],\n",
       "       [0, 1, 0],\n",
       "       [0, 0, 1],\n",
       "       [1, 1, 1]])"
      ]
     },
     "execution_count": 292,
     "metadata": {},
     "output_type": "execute_result"
    }
   ],
   "source": [
    "data"
   ]
  },
  {
   "cell_type": "code",
   "execution_count": 293,
   "metadata": {},
   "outputs": [
    {
     "data": {
      "text/plain": [
       "array([[ 0.33333333, -0.16666667, -0.16666667,  0.        ],\n",
       "       [-0.16666667,  0.33333333, -0.16666667,  0.        ],\n",
       "       [-0.16666667, -0.16666667,  0.33333333,  0.        ],\n",
       "       [ 0.        ,  0.        ,  0.        ,  0.        ]])"
      ]
     },
     "execution_count": 293,
     "metadata": {},
     "output_type": "execute_result"
    }
   ],
   "source": [
    "data = np.array([[1,0,0],[0,1,0],[0,0,1],[1,1,1]])\n",
    "np.cov(data)"
   ]
  },
  {
   "cell_type": "code",
   "execution_count": 58,
   "metadata": {},
   "outputs": [],
   "source": [
    "\n",
    "B=[i for i in range(M) if i not in A]"
   ]
  }
 ],
 "metadata": {
  "kernelspec": {
   "display_name": "base",
   "language": "python",
   "name": "python3"
  },
  "language_info": {
   "codemirror_mode": {
    "name": "ipython",
    "version": 3
   },
   "file_extension": ".py",
   "mimetype": "text/x-python",
   "name": "python",
   "nbconvert_exporter": "python",
   "pygments_lexer": "ipython3",
   "version": "3.9.13"
  }
 },
 "nbformat": 4,
 "nbformat_minor": 2
}
