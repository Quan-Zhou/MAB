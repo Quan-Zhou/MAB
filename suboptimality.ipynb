{
 "cells": [
  {
   "cell_type": "code",
   "execution_count": 823,
   "metadata": {},
   "outputs": [],
   "source": [
    "import math\n",
    "import numpy as np\n",
    "import matplotlib.pyplot as plt\n",
    "from itertools import combinations\n",
    "from scipy.stats import norm"
   ]
  },
  {
   "cell_type": "code",
   "execution_count": 765,
   "metadata": {},
   "outputs": [
    {
     "name": "stdout",
     "output_type": "stream",
     "text": [
      "0.8234624050676069\n"
     ]
    }
   ],
   "source": [
    "d=1\n",
    "E=1/3\n",
    "U=E+math.sqrt(2)/2*math.log(2/d)\n",
    "print(U)"
   ]
  },
  {
   "cell_type": "code",
   "execution_count": 824,
   "metadata": {},
   "outputs": [],
   "source": [
    "def generate_gaussian(mean, cov, num_samples):\n",
    "    \"\"\"\n",
    "    Generate multi-dimensional Gaussian random variables.\n",
    "\n",
    "    Parameters:\n",
    "        mean (list or np.array): Mean vector of the Gaussian distribution.\n",
    "        cov (list or np.array): Covariance matrix of the Gaussian distribution.\n",
    "        num_samples (int): Number of samples to generate.\n",
    "\n",
    "    Returns:\n",
    "        np.array: Generated samples of shape (num_samples, dimension).\n",
    "    \"\"\"\n",
    "    mean = np.array(mean)\n",
    "    cov = np.array(cov)\n",
    "\n",
    "    if mean.ndim != 1 or cov.ndim != 2 or cov.shape[0] != cov.shape[1] or len(mean) != cov.shape[0]:\n",
    "        raise ValueError(\"Mean vector and covariance matrix dimensions must align.\")\n",
    "\n",
    "    samples = np.random.multivariate_normal(mean, cov, num_samples)\n",
    "    return samples\n",
    "\n",
    "def generate_random_covariance(dim):\n",
    "    \"\"\"\n",
    "    Generate a random positive semi-definite covariance matrix of given dimension.\n",
    "\n",
    "    Parameters:\n",
    "        dim (int): Dimension of the covariance matrix.\n",
    "\n",
    "    Returns:\n",
    "        np.array: A dim x dim covariance matrix.\n",
    "    \"\"\"\n",
    "    A = np.random.rand(dim, dim)\n",
    "    cov = np.dot(A, A.T)  # Create a symmetric positive semi-definite matrix\n",
    "    return cov\n",
    "\n",
    "def generate_combinations(numbers, r):\n",
    "    \"\"\"\n",
    "    Generate all combinations of a given size from a list of numbers.\n",
    "\n",
    "    Parameters:\n",
    "        numbers (list): List of numbers to generate combinations from.\n",
    "        r (int): Size of each combination.\n",
    "\n",
    "    Returns:\n",
    "        list: List of combinations, each as a tuple.\n",
    "    \"\"\"\n",
    "    return list(combinations(numbers, r))"
   ]
  },
  {
   "cell_type": "code",
   "execution_count": 825,
   "metadata": {},
   "outputs": [
    {
     "ename": "NameError",
     "evalue": "name 'x' is not defined",
     "output_type": "error",
     "traceback": [
      "\u001b[1;31m---------------------------------------------------------------------------\u001b[0m",
      "\u001b[1;31mNameError\u001b[0m                                 Traceback (most recent call last)",
      "Cell \u001b[1;32mIn[825], line 3\u001b[0m\n\u001b[0;32m      1\u001b[0m cov\u001b[38;5;241m=\u001b[39mgenerate_random_covariance(M)\n\u001b[0;32m      2\u001b[0m cov\u001b[38;5;241m=\u001b[39mnp\u001b[38;5;241m.\u001b[39mdiag(cov)\n\u001b[1;32m----> 3\u001b[0m np\u001b[38;5;241m.\u001b[39mdiag(np\u001b[38;5;241m.\u001b[39mdiag(\u001b[43mx\u001b[49m))\n",
      "\u001b[1;31mNameError\u001b[0m: name 'x' is not defined"
     ]
    }
   ],
   "source": [
    "cov=generate_random_covariance(M)\n",
    "cov=np.diag(cov)\n",
    "np.diag(np.diag(x))"
   ]
  },
  {
   "cell_type": "code",
   "execution_count": 826,
   "metadata": {},
   "outputs": [],
   "source": [
    "def meanvsmedian(a,name):\n",
    "    # Define probabilities\n",
    "    probabilities = [0.7-a, a, 0.3]  # Probabilities for [1, 0.9, 0]\n",
    "    values = [1, 0.9, 0]  # Corresponding values\n",
    "    # Generate 1000 samples\n",
    "    samples = np.random.choice(values, size=1000, p=probabilities)\n",
    "    if name=='median':\n",
    "        return np.median(samples)\n",
    "    else:\n",
    "        return np.mean(samples)\n",
    "    # print(\"Median of the samples:\", np.median(samples))\n",
    "    # print(\"Mean of the samples:\", np.mean(samples))"
   ]
  },
  {
   "cell_type": "code",
   "execution_count": null,
   "metadata": {},
   "outputs": [
    {
     "data": {
      "text/plain": [
       "<matplotlib.legend.Legend at 0x22c8d779d30>"
      ]
     },
     "execution_count": 70,
     "metadata": {},
     "output_type": "execute_result"
    },
    {
     "data": {
      "image/png": "[encoded data removed]",
      "text/plain": [
       "<Figure size 640x480 with 1 Axes>"
      ]
     },
     "metadata": {},
     "output_type": "display_data"
    }
   ],
   "source": [
    "x=np.arange(0,0.7,0.02)\n",
    "plt.plot(x,[meanvsmedian(i,'median') for i in x],label='median')\n",
    "plt.plot(x,[meanvsmedian(i,'mean') for i in x],label='mean')\n",
    "plt.legend()"
   ]
  },
  {
   "cell_type": "code",
   "execution_count": 1257,
   "metadata": {},
   "outputs": [],
   "source": [
    "class suboptimality:\n",
    "    def __init__(self,M,K,delta=0.01):\n",
    "        self.M = M\n",
    "        self.K = K\n",
    "    # def generate_samples(self): \n",
    "        # self.mean = np.sort(np.random.rand(M))[::-1]\n",
    "        # cov=generate_random_covariance(self.M)\n",
    "        # self.cov=np.diag(np.diag(cov))\n",
    "        variances = np.random.uniform(0.01, 10, M)\n",
    "        sorted_variances = np.sort(variances)[::-1]\n",
    "        self.mean = np.sort(np.random.rand(M))[::-1] #np.random.rand(M) #np.array([0]*M)\n",
    "        self.cov = np.diag(variances) #np.eye(M)*10  #\n",
    "        self.delta=delta\n",
    "        num_samples = 10000\n",
    "        # Generate samples\n",
    "        self.samples = generate_gaussian(self.mean, self.cov, num_samples) #np.cov(samples.T)\n",
    "\n",
    "    def iterative_elimination(self):\n",
    "        A=[*range(self.M)]\n",
    "        while len(A)>self.K:\n",
    "            A,minexp=self.Aminus_enumeration(A)\n",
    "        return A, minexp\n",
    "    \n",
    "    def iterative_addition(self):\n",
    "        A=[] #[*range(self.M)]\n",
    "        while len(A)<self.K:\n",
    "            A,minexp=self.Aplus_enumeration(A)\n",
    "        return A, minexp\n",
    "\n",
    "    def Aminus_enumeration(self,A):\n",
    "        comb=generate_combinations(A, len(A)-1)\n",
    "        minexp=100\n",
    "        optAminus=[]\n",
    "        for c in comb:\n",
    "            Aminus=list(c)\n",
    "            exp=np.average(np.max(self.samples,1)-np.max(self.samples[:,Aminus],1))\n",
    "            if minexp > exp:\n",
    "                minexp = exp\n",
    "                optAminus = Aminus   \n",
    "        return optAminus, minexp\n",
    "    \n",
    "    def Aplus_enumeration(self,A):\n",
    "        notA=[i for i in range(self.M) if i not in A]\n",
    "        comb=[A+[i] for i in notA] #generate_combinations(notA, len(A)-1)\n",
    "        minexp=100\n",
    "        optAminus=[]\n",
    "        for c in comb:\n",
    "            Aminus=list(c)\n",
    "            exp=np.average(np.max(self.samples,1)-np.max(self.samples[:,Aminus],1))\n",
    "            if minexp > exp:\n",
    "                minexp = exp\n",
    "                optAminus = Aminus   \n",
    "        return optAminus, minexp\n",
    "\n",
    "    def enumeration(self,numbers=[]):\n",
    "        # Generate combinations\n",
    "        if len(numbers)==0:\n",
    "            numbers = [*range(self.M)]\n",
    "        comb = generate_combinations(numbers, self.K)\n",
    "        minexp=100\n",
    "        optA=[]\n",
    "        for c in comb:\n",
    "            A=list(c)\n",
    "            exp=np.average(np.max(self.samples,1)-np.max(self.samples[:,A],1))\n",
    "            if minexp > exp:\n",
    "                minexp = exp\n",
    "                optA = A\n",
    "        return optA, minexp, np.quantile(np.max(self.samples,1)-np.max(self.samples[:,optA],1), 1-self.delta)\n",
    "   \n",
    "    def enumeration_multiple(self,numbers=[]):\n",
    "        # Generate combinations\n",
    "        if len(numbers)==0:\n",
    "            numbers = [*range(self.M)]\n",
    "        comb = generate_combinations(numbers, self.K)\n",
    "        minexp=100\n",
    "        optA=[]\n",
    "        for c in comb:\n",
    "            A=list(c)\n",
    "            exp=np.average(np.max(self.samples,1)-np.max(self.samples[:,A],1))\n",
    "            if minexp > exp:\n",
    "                minexp = exp\n",
    "                optA = A\n",
    "        return optA, minexp\n",
    "    \n",
    "    def bounds(self,alpha,A=[]):\n",
    "        if len(A)==0:\n",
    "            A=[*range(self.M)]\n",
    "        bounds=[norm.ppf(alpha, loc=self.mean[i], scale=math.sqrt(self.cov[i,i])) for i in A]\n",
    "        # median=self.mean # mean=median for gaussian\n",
    "        return np.array(bounds)\n",
    "    \n",
    "    def bound_enumeration(self,numbers=[]):\n",
    "        # Generate combinations\n",
    "        if len(numbers)==0:\n",
    "            numbers = [*range(self.M)]\n",
    "        comb = generate_combinations(numbers, self.K)\n",
    "        upperbounds=self.bounds(1-self.delta/2)\n",
    "        median=np.array(self.mean)\n",
    "        minexp=100\n",
    "        optA=[]\n",
    "        for c in comb:\n",
    "            A=list(c)\n",
    "            Ac=list(set(numbers)-set(A))\n",
    "            exp=np.max(upperbounds[Ac])-np.min(median[A]) #\n",
    "            if minexp > exp:\n",
    "                minexp = exp\n",
    "                optA = A\n",
    "        return optA, self.DeltaA(optA), minexp\n",
    "    \n",
    "    def unionset(self):\n",
    "        U=self.bounds(1-self.delta/2)\n",
    "        rankU=np.array([sorted(U,reverse = True).index(x) for x in U])\n",
    "        union=[]\n",
    "        for i in range(self.M):\n",
    "            if (i<self.K)|(rankU[i]<self.K):\n",
    "                union+=[i]\n",
    "        return union\n",
    "\n",
    "    def DeltaA(self,A):\n",
    "        return np.average(np.max(self.samples,1)-np.max(self.samples[:,A],1))\n",
    "    \n",
    "    def JA(self,A):\n",
    "        numbers = [*range(self.M)]\n",
    "        Ac=list(set(numbers)-set(A))\n",
    "        upperbounds=self.bounds(1-self.delta/2,Ac)\n",
    "        median=np.array(self.mean)[A]\n",
    "        return np.max(upperbounds)-np.min(median)\n",
    "        \n",
    "    def plotdata(self,A):\n",
    "        return np.max(self.samples,1)-np.max(self.samples[:,A],1)\n",
    "        # plt.hist(,bins=10)"
   ]
  },
  {
   "cell_type": "code",
   "execution_count": 1248,
   "metadata": {},
   "outputs": [],
   "source": [
    "M=12\n",
    "K=4\n",
    "delta=(1/2)**(K-1)\n",
    "trial=suboptimality(M,K,delta)"
   ]
  },
  {
   "cell_type": "code",
   "execution_count": 1249,
   "metadata": {},
   "outputs": [
    {
     "data": {
      "text/plain": [
       "([0, 1, 3, 4], 0.3979251728837474, 1.3147388222119156)"
      ]
     },
     "execution_count": 1249,
     "metadata": {},
     "output_type": "execute_result"
    }
   ],
   "source": [
    "trial.enumeration()"
   ]
  },
  {
   "cell_type": "code",
   "execution_count": 1250,
   "metadata": {},
   "outputs": [
    {
     "data": {
      "text/plain": [
       "([0, 1, 3, 4], 0.3979251728837474, 1.3147388222119156)"
      ]
     },
     "execution_count": 1250,
     "metadata": {},
     "output_type": "execute_result"
    }
   ],
   "source": [
    "trial.enumeration(trial.unionset())"
   ]
  },
  {
   "cell_type": "code",
   "execution_count": 1244,
   "metadata": {},
   "outputs": [
    {
     "data": {
      "text/plain": [
       "([1, 2, 8, 11, 12], 0.7759774185189406, 5.001107594711211)"
      ]
     },
     "execution_count": 1244,
     "metadata": {},
     "output_type": "execute_result"
    }
   ],
   "source": [
    "trial.bound_enumeration(trial.unionset())"
   ]
  },
  {
   "cell_type": "code",
   "execution_count": 1238,
   "metadata": {},
   "outputs": [
    {
     "data": {
      "text/plain": [
       "[0, 1, 2, 3, 4, 8, 11, 14]"
      ]
     },
     "execution_count": 1238,
     "metadata": {},
     "output_type": "execute_result"
    }
   ],
   "source": [
    "trial.unionset()"
   ]
  },
  {
   "cell_type": "code",
   "execution_count": 1159,
   "metadata": {},
   "outputs": [
    {
     "data": {
      "text/plain": [
       "array([4, 1, 3, 0, 2])"
      ]
     },
     "execution_count": 1159,
     "metadata": {},
     "output_type": "execute_result"
    }
   ],
   "source": [
    "optA=trial.bound_enumeration()[0]\n",
    "bourank=[sorted(trial.bounds(1-delta/2),reverse=True).index(x) for x in trial.bounds(1-delta/2)]\n",
    "np.array(bourank)[optA]"
   ]
  },
  {
   "cell_type": "code",
   "execution_count": 1267,
   "metadata": {},
   "outputs": [],
   "source": [
    "bounds=trial.bounds(1-delta/2)"
   ]
  },
  {
   "cell_type": "code",
   "execution_count": null,
   "metadata": {},
   "outputs": [],
   "source": []
  },
  {
   "cell_type": "code",
   "execution_count": 1261,
   "metadata": {},
   "outputs": [],
   "source": [
    "for ignore in range(1000):\n",
    "    trial=suboptimality(M,K,delta)\n",
    "    x1,y1,_=trial.bound_enumeration()\n",
    "    # x2,y2,z2=trial.enumeration(trial.unionset())\n",
    "    if set(x1).issubset(trial.unionset())==False:\n",
    "        print(trial.unionset(),x1)"
   ]
  },
  {
   "cell_type": "code",
   "execution_count": null,
   "metadata": {},
   "outputs": [],
   "source": [
    "numbers = union #[*range(M)]\n",
    "comb = generate_combinations(numbers, K)\n",
    "y1=[]\n",
    "y2=[]\n",
    "for c in comb:\n",
    "    A=list(c)\n",
    "    y1.append(trial.DeltaA(A))\n",
    "    y2.append(trial.JA(A))"
   ]
  },
  {
   "cell_type": "code",
   "execution_count": 1165,
   "metadata": {},
   "outputs": [
    {
     "data": {
      "text/plain": [
       "<matplotlib.collections.PathCollection at 0x221264957c0>"
      ]
     },
     "execution_count": 1165,
     "metadata": {},
     "output_type": "execute_result"
    },
    {
     "data": {
      "image/png": "[encoded data removed]",
      "text/plain": [
       "<Figure size 640x480 with 1 Axes>"
      ]
     },
     "metadata": {},
     "output_type": "display_data"
    }
   ],
   "source": [
    "plt.plot([x for x, _ in sorted(zip(y1, y2))],color='b')\n",
    "plt.scatter([*range(len(comb))],[x for _, x in sorted(zip(y1, y2))],color='y',s=1)"
   ]
  },
  {
   "cell_type": "code",
   "execution_count": null,
   "metadata": {},
   "outputs": [],
   "source": [
    "trial.DeltaA([i for i in range(M) if sorted(bounds,reverse=True).index(bounds[i])<K])"
   ]
  },
  {
   "cell_type": "code",
   "execution_count": 1311,
   "metadata": {},
   "outputs": [
    {
     "data": {
      "image/png": "[encoded data removed]",
      "text/plain": [
       "<Figure size 1000x300 with 3 Axes>"
      ]
     },
     "metadata": {},
     "output_type": "display_data"
    }
   ],
   "source": [
    "trial=suboptimality(M,K,delta)\n",
    "bounds=trial.bounds(1-delta/2)\n",
    "f,ax=plt.subplots(3,figsize=(10,3),sharex=True)\n",
    "ax[0].hist(trial.plotdata(trial.enumeration()[0]))\n",
    "A,i,c=trial.bound_enumeration()\n",
    "ax[1].hist(trial.plotdata(A))\n",
    "ax[2].hist(trial.plotdata([i for i in range(M) if sorted(bounds,reverse=True).index(bounds[i])<K]))\n",
    "ax[0].set_xlim([0,c])\n",
    "# ax[1].set_xlim([0,c])\n",
    "plt.show()"
   ]
  },
  {
   "cell_type": "code",
   "execution_count": null,
   "metadata": {},
   "outputs": [
    {
     "data": {
      "text/plain": [
       "0.015625"
      ]
     },
     "execution_count": 714,
     "metadata": {},
     "output_type": "execute_result"
    }
   ],
   "source": [
    "K=7\n",
    "(1/2)**(K-1)"
   ]
  },
  {
   "cell_type": "code",
   "execution_count": 1283,
   "metadata": {},
   "outputs": [],
   "source": [
    "M=12\n",
    "K=6\n",
    "delta=(1/2)**(K-1)\n",
    "e=20\n",
    "dataa=[]\n",
    "datab=[]\n",
    "datac=[]\n",
    "datad=[]\n",
    "for ignore in range(e):\n",
    "    trial=suboptimality(M,K,delta)\n",
    "    bounds=trial.bounds(1-delta/2)\n",
    "    # dataa.append(trial.enumeration()[1])\n",
    "    a=trial.enumeration()[1]\n",
    "    datab.append((trial.bound_enumeration()[1]-a)/a)\n",
    "    datac.append((trial.DeltaA([*range(K)])-a)/a)\n",
    "    datad.append((trial.DeltaA([i for i in range(M) if sorted(bounds,reverse=True).index(bounds[i])<K])-a)/a)"
   ]
  },
  {
   "cell_type": "code",
   "execution_count": 1287,
   "metadata": {},
   "outputs": [
    {
     "data": {
      "text/plain": [
       "([<matplotlib.axis.YTick at 0x22130288220>,\n",
       "  <matplotlib.axis.YTick at 0x2213027eb80>,\n",
       "  <matplotlib.axis.YTick at 0x2213027e0d0>],\n",
       " [Text(0, 0.0, '0.0000'),\n",
       "  Text(0, 0.05532062614705273, '0.0553'),\n",
       "  Text(0, 0.4192569878251211, '0.4193')])"
      ]
     },
     "execution_count": 1287,
     "metadata": {},
     "output_type": "execute_result"
    },
    {
     "data": {
      "image/png": "[encoded data removed]",
      "text/plain": [
       "<Figure size 640x480 with 1 Axes>"
      ]
     },
     "metadata": {},
     "output_type": "display_data"
    }
   ],
   "source": [
    "# plt.scatter([*range(e)],dataa,c='r')\n",
    "# plt.scatter([*range(e)],datab,c='g')\n",
    "plt.scatter([*range(e)],datad,c='c')\n",
    "# plt.scatter([*range(e)],datac,c='b')\n",
    "plt.yticks([0,np.average(datab),np.max(datab)])"
   ]
  },
  {
   "cell_type": "code",
   "execution_count": null,
   "metadata": {},
   "outputs": [],
   "source": [
    "M=10\n",
    "K=3\n",
    "exp_eliminate=[]\n",
    "exp_add=[]\n",
    "exp_enumerate=[]\n",
    "diff=0\n",
    "for ignore in range(50):\n",
    "    trial=suboptimality(M,K)\n",
    "    # result0=trial.iterative_elimination()\n",
    "    # result1=trial.iterative_addition()\n",
    "    result2=trial.enumeration()\n",
    "    # if result0[0] != result1[0]:\n",
    "    #     break\n",
    "    #     diff+=1\n",
    "    # exp_eliminate += [result0[1]]\n",
    "    # exp_add += [result1[1]]\n",
    "    exp_enumerate += [result2[1]]"
   ]
  },
  {
   "cell_type": "code",
   "execution_count": null,
   "metadata": {},
   "outputs": [
    {
     "ename": "TypeError",
     "evalue": "cov() missing 1 required positional argument: 'm'",
     "output_type": "error",
     "traceback": [
      "\u001b[1;31m---------------------------------------------------------------------------\u001b[0m",
      "\u001b[1;31mTypeError\u001b[0m                                 Traceback (most recent call last)",
      "Cell \u001b[1;32mIn[103], line 1\u001b[0m\n\u001b[1;32m----> 1\u001b[0m \u001b[43mnp\u001b[49m\u001b[38;5;241;43m.\u001b[39;49m\u001b[43mcov\u001b[49m\u001b[43m(\u001b[49m\u001b[43m)\u001b[49m\n",
      "\u001b[1;31mTypeError\u001b[0m: cov() missing 1 required positional argument: 'm'"
     ]
    }
   ],
   "source": [
    "np.cov()"
   ]
  },
  {
   "cell_type": "code",
   "execution_count": null,
   "metadata": {},
   "outputs": [
    {
     "data": {
      "text/plain": [
       "([0, 1, 2], 0.2808817104156382)"
      ]
     },
     "execution_count": 133,
     "metadata": {},
     "output_type": "execute_result"
    }
   ],
   "source": [
    "trial=suboptimality(M,K)\n",
    "trial.enumeration()"
   ]
  },
  {
   "cell_type": "code",
   "execution_count": null,
   "metadata": {},
   "outputs": [
    {
     "data": {
      "text/plain": [
       "array([1.35191728, 1.23010076, 1.1112896 , 0.72546197, 1.06324628])"
      ]
     },
     "execution_count": 134,
     "metadata": {},
     "output_type": "execute_result"
    }
   ],
   "source": [
    "np.diag(np.cov(trial.samples.T))"
   ]
  },
  {
   "cell_type": "code",
   "execution_count": null,
   "metadata": {},
   "outputs": [
    {
     "data": {
      "text/plain": [
       "array([0.92890299, 1.96330719, 2.05349669, 2.01478776, 0.79720796])"
      ]
     },
     "execution_count": 54,
     "metadata": {},
     "output_type": "execute_result"
    }
   ],
   "source": [
    "np.diag(trial.cov)"
   ]
  },
  {
   "cell_type": "code",
   "execution_count": null,
   "metadata": {},
   "outputs": [
    {
     "data": {
      "text/plain": [
       "([0, 7, 10, 13, 15], 1.3446300225404533)"
      ]
     },
     "execution_count": 989,
     "metadata": {},
     "output_type": "execute_result"
    }
   ],
   "source": [
    "# trial=suboptimality(M,K)\n",
    "trial.iterative_elimination()"
   ]
  },
  {
   "cell_type": "code",
   "execution_count": null,
   "metadata": {},
   "outputs": [
    {
     "data": {
      "text/plain": [
       "1.3412085776414653"
      ]
     },
     "execution_count": 991,
     "metadata": {},
     "output_type": "execute_result"
    }
   ],
   "source": [
    "np.mean(exp_eliminate)"
   ]
  },
  {
   "cell_type": "code",
   "execution_count": null,
   "metadata": {},
   "outputs": [
    {
     "data": {
      "text/plain": [
       "1.3402331439590685"
      ]
     },
     "execution_count": 992,
     "metadata": {},
     "output_type": "execute_result"
    }
   ],
   "source": [
    "np.mean(exp_enumerate)"
   ]
  },
  {
   "cell_type": "code",
   "execution_count": null,
   "metadata": {},
   "outputs": [
    {
     "data": {
      "text/plain": [
       "0.002030473713528727"
      ]
     },
     "execution_count": 998,
     "metadata": {},
     "output_type": "execute_result"
    }
   ],
   "source": [
    "(np.mean(exp_eliminate)-np.mean(exp_enumerate))/np.mean(exp_enumerate)"
   ]
  },
  {
   "cell_type": "code",
   "execution_count": null,
   "metadata": {},
   "outputs": [
    {
     "data": {
      "text/plain": [
       "0.010597334245793122"
      ]
     },
     "execution_count": 999,
     "metadata": {},
     "output_type": "execute_result"
    }
   ],
   "source": [
    "np.max([exp_eliminate[i]-exp_enumerate[i] for i in range(50)])"
   ]
  },
  {
   "cell_type": "code",
   "execution_count": null,
   "metadata": {},
   "outputs": [
    {
     "data": {
      "text/plain": [
       "Text(0.5, 1.0, 'Expectation of sub-optimality gap | independent actions | different mean over prior')"
      ]
     },
     "execution_count": 995,
     "metadata": {},
     "output_type": "execute_result"
    },
    {
     "data": {
      "image/png": "[encoded data removed]",
      "text/plain": [
       "<Figure size 640x480 with 1 Axes>"
      ]
     },
     "metadata": {},
     "output_type": "display_data"
    }
   ],
   "source": [
    "t=len(exp_enumerate)\n",
    "plt.scatter([*range(t)],exp_eliminate,color='cyan',label='heuristic')\n",
    "# plt.scatter([*range(t)],exp_add,color='b')\n",
    "plt.scatter([*range(t)],exp_enumerate,color='green',label='enumeration')\n",
    "plt.scatter([*range(t)],[exp_eliminate[i]-exp_enumerate[i] for i in range(t)],label='difference')\n",
    "plt.legend()\n",
    "plt.title('Expectation of sub-optimality gap | independent actions | different mean over prior')"
   ]
  },
  {
   "cell_type": "code",
   "execution_count": null,
   "metadata": {},
   "outputs": [
    {
     "data": {
      "text/plain": [
       "Text(0.5, 1.0, 'Expectation of sub-optimality gap | dependent actions | different mean over prior')"
      ]
     },
     "execution_count": 1000,
     "metadata": {},
     "output_type": "execute_result"
    },
    {
     "data": {
      "image/png": "[encoded data removed]",
      "text/plain": [
       "<Figure size 640x480 with 1 Axes>"
      ]
     },
     "metadata": {},
     "output_type": "display_data"
    }
   ],
   "source": [
    "t=len(exp_enumerate)\n",
    "plt.scatter([*range(t)],exp_eliminate,color='cyan',label='heuristic')\n",
    "# plt.scatter([*range(t)],exp_add,color='b')\n",
    "plt.scatter([*range(t)],exp_enumerate,color='green',label='enumeration')\n",
    "plt.scatter([*range(t)],[exp_eliminate[i]-exp_enumerate[i] for i in range(t)],label='difference')\n",
    "plt.legend()\n",
    "plt.title('Expectation of sub-optimality gap | dependent actions | different mean over prior')"
   ]
  },
  {
   "cell_type": "code",
   "execution_count": null,
   "metadata": {},
   "outputs": [
    {
     "data": {
      "text/plain": [
       "Text(0.5, 1.0, 'Expectation of sub-optimality gap | dependent actions')"
      ]
     },
     "metadata": {},
     "output_type": "display_data"
    },
    {
     "data": {
      "image/png": "[encoded data removed]",
      "text/plain": [
       "<Figure size 640x480 with 1 Axes>"
      ]
     },
     "metadata": {},
     "output_type": "display_data"
    }
   ],
   "source": [
    "t=len(exp_enumerate)\n",
    "plt.scatter([*range(t)],exp_eliminate,color='cyan',label='heuristic')\n",
    "# plt.scatter([*range(t)],exp_add,color='b')\n",
    "plt.scatter([*range(t)],exp_enumerate,color='green',label='enumeration')\n",
    "plt.scatter([*range(t)],[exp_eliminate[i]-exp_enumerate[i] for i in range(t)],label='difference')\n",
    "plt.legend()\n",
    "plt.title('Expectation of sub-optimality gap | dependent actions')"
   ]
  },
  {
   "cell_type": "code",
   "execution_count": null,
   "metadata": {},
   "outputs": [
    {
     "data": {
      "text/plain": [
       "Text(0.5, 1.0, 'Expectation of sub-optimality gap | independent actions')"
      ]
     },
     "metadata": {},
     "output_type": "display_data"
    },
    {
     "data": {
      "image/png": "[encoded data removed]",
      "text/plain": [
       "<Figure size 640x480 with 1 Axes>"
      ]
     },
     "metadata": {},
     "output_type": "display_data"
    }
   ],
   "source": [
    "t=len(exp_enumerate)\n",
    "plt.scatter([*range(t)],exp_eliminate,color='cyan',label='heuristic')\n",
    "# plt.scatter([*range(t)],exp_add,color='b')\n",
    "plt.scatter([*range(t)],exp_enumerate,color='green',label='enumeration')\n",
    "plt.scatter([*range(t)],[exp_eliminate[i]-exp_enumerate[i] for i in range(t)],label='difference')\n",
    "plt.legend()\n",
    "plt.title('Expectation of sub-optimality gap | independent actions')"
   ]
  },
  {
   "cell_type": "code",
   "execution_count": null,
   "metadata": {},
   "outputs": [
    {
     "data": {
      "text/plain": [
       "([1, 3, 5, 7, 8], 0.19981672153166596)"
      ]
     },
     "execution_count": 839,
     "metadata": {},
     "output_type": "execute_result"
    }
   ],
   "source": [
    "trial.enumeration()"
   ]
  },
  {
   "cell_type": "code",
   "execution_count": null,
   "metadata": {},
   "outputs": [],
   "source": [
    "# Mean vector and covariance matrix\n",
    "\n",
    "mean = [0]*M\n",
    "cov=generate_random_covariance(M)\n",
    "# cov=np.eye(M)\n",
    "num_samples = 1000\n",
    "# Generate samples\n",
    "samples = generate_gaussian(mean, cov, num_samples) #np.cov(samples.T)"
   ]
  },
  {
   "cell_type": "code",
   "execution_count": null,
   "metadata": {},
   "outputs": [
    {
     "name": "stdout",
     "output_type": "stream",
     "text": [
      "[0, 1, 4] 0.10142462284716339\n"
     ]
    }
   ],
   "source": [
    "A=[*range(M)]\n",
    "while len(A)>K:\n",
    "    A,minexp=Aminus_enumeration(samples,A)\n",
    "print(A,minexp)"
   ]
  },
  {
   "cell_type": "code",
   "execution_count": null,
   "metadata": {},
   "outputs": [
    {
     "data": {
      "text/plain": [
       "([0, 1, 4], 0.10142462284716339)"
      ]
     },
     "execution_count": 580,
     "metadata": {},
     "output_type": "execute_result"
    }
   ],
   "source": [
    "enumeration(samples)"
   ]
  },
  {
   "cell_type": "code",
   "execution_count": null,
   "metadata": {},
   "outputs": [
    {
     "data": {
      "text/plain": [
       "0.5183915607103443"
      ]
     },
     "execution_count": 546,
     "metadata": {},
     "output_type": "execute_result"
    }
   ],
   "source": [
    "A=[2,0]\n",
    "np.average(np.max(samples,1)-np.max(samples[:,A],1))"
   ]
  },
  {
   "cell_type": "code",
   "execution_count": null,
   "metadata": {},
   "outputs": [
    {
     "data": {
      "text/plain": [
       "0.2005434133506281"
      ]
     },
     "execution_count": 451,
     "metadata": {},
     "output_type": "execute_result"
    }
   ],
   "source": [
    "A=[1,0]\n",
    "np.average(np.max(samples,1)-np.max(samples[:,A],1))"
   ]
  },
  {
   "cell_type": "code",
   "execution_count": null,
   "metadata": {},
   "outputs": [
    {
     "data": {
      "text/plain": [
       "0.23886165038309223"
      ]
     },
     "execution_count": 452,
     "metadata": {},
     "output_type": "execute_result"
    }
   ],
   "source": [
    "A=[1,2]\n",
    "np.average(np.max(samples,1)-np.max(samples[:,A],1))"
   ]
  },
  {
   "cell_type": "code",
   "execution_count": null,
   "metadata": {},
   "outputs": [
    {
     "data": {
      "text/plain": [
       "0.8219816244864687"
      ]
     },
     "execution_count": 266,
     "metadata": {},
     "output_type": "execute_result"
    }
   ],
   "source": [
    "A=[2,3]\n",
    "np.average(np.max(samples,1)-np.max(samples[:,A],1))"
   ]
  },
  {
   "cell_type": "code",
   "execution_count": null,
   "metadata": {},
   "outputs": [
    {
     "data": {
      "text/plain": [
       "array([[1, 0, 0],\n",
       "       [0, 1, 0],\n",
       "       [0, 0, 1],\n",
       "       [1, 1, 1]])"
      ]
     },
     "execution_count": 292,
     "metadata": {},
     "output_type": "execute_result"
    }
   ],
   "source": [
    "data"
   ]
  },
  {
   "cell_type": "code",
   "execution_count": null,
   "metadata": {},
   "outputs": [
    {
     "data": {
      "text/plain": [
       "array([[ 0.33333333, -0.16666667, -0.16666667,  0.        ],\n",
       "       [-0.16666667,  0.33333333, -0.16666667,  0.        ],\n",
       "       [-0.16666667, -0.16666667,  0.33333333,  0.        ],\n",
       "       [ 0.        ,  0.        ,  0.        ,  0.        ]])"
      ]
     },
     "execution_count": 293,
     "metadata": {},
     "output_type": "execute_result"
    }
   ],
   "source": [
    "data = np.array([[1,0,0],[0,1,0],[0,0,1],[1,1,1]])\n",
    "np.cov(data)"
   ]
  },
  {
   "cell_type": "code",
   "execution_count": null,
   "metadata": {},
   "outputs": [],
   "source": [
    "\n",
    "B=[i for i in range(M) if i not in A]"
   ]
  }
 ],
 "metadata": {
  "kernelspec": {
   "display_name": "base",
   "language": "python",
   "name": "python3"
  },
  "language_info": {
   "codemirror_mode": {
    "name": "ipython",
    "version": 3
   },
   "file_extension": ".py",
   "mimetype": "text/x-python",
   "name": "python",
   "nbconvert_exporter": "python",
   "pygments_lexer": "ipython3",
   "version": "3.9.13"
  }
 },
 "nbformat": 4,
 "nbformat_minor": 2
}
